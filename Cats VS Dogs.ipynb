{
  "cells": [
    {
      "cell_type": "code",
      "execution_count": null,
      "metadata": {
        "id": "QZhEZNG59hC0"
      },
      "outputs": [],
      "source": [
        "import os\n",
        "import shutil\n",
        "from sklearn.model_selection import train_test_split\n",
        "\n",
        "# Paths\n",
        "data_dir = 'C:/Users/louay/Desktop/Cats_and_Dogs/all_data'\n",
        "output_dir = 'C:/Users/louay/Desktop/Cats_and_Dogs'\n",
        "\n",
        "# Create output directories\n",
        "train_dir = os.path.join(output_dir, 'train')\n",
        "val_dir = os.path.join(output_dir, 'val')\n",
        "test_dir = os.path.join(output_dir, 'test')\n",
        "\n",
        "for folder in [train_dir, val_dir, test_dir]:\n",
        "    os.makedirs(os.path.join(folder, 'cats'), exist_ok=True)\n",
        "    os.makedirs(os.path.join(folder, 'dogs'), exist_ok=True)\n",
        "\n",
        "# Parameters for splitting\n",
        "train_ratio = 0.64\n",
        "val_ratio = 0.26\n",
        "test_ratio = 0.1\n",
        "\n",
        "# Gather all image paths\n",
        "cats = [os.path.join(data_dir, 'cats', f) for f in os.listdir(os.path.join(data_dir, 'cats')) if f.endswith('.jpg')]\n",
        "dogs = [os.path.join(data_dir, 'dogs', f) for f in os.listdir(os.path.join(data_dir, 'dogs')) if f.endswith('.jpg')]\n",
        "\n",
        "# Split into train, val, and test\n",
        "def split_data(filepaths, train_ratio, val_ratio):\n",
        "    train_files, temp_files = train_test_split(filepaths, train_size=train_ratio, random_state=42)\n",
        "    val_files, test_files = train_test_split(temp_files, train_size=val_ratio / (val_ratio + test_ratio), random_state=42)\n",
        "    return train_files, val_files, test_files\n",
        "\n",
        "cats_train, cats_val, cats_test = split_data(cats, train_ratio, val_ratio)\n",
        "dogs_train, dogs_val, dogs_test = split_data(dogs, train_ratio, val_ratio)\n",
        "\n",
        "# Function to copy files to respective directories\n",
        "def copy_files(filepaths, target_dir):\n",
        "    for filepath in filepaths:\n",
        "        shutil.copy(filepath, target_dir)\n",
        "\n",
        "# Copy files\n",
        "copy_files(cats_train, os.path.join(train_dir, 'cats'))\n",
        "copy_files(cats_val, os.path.join(val_dir, 'cats'))\n",
        "copy_files(cats_test, os.path.join(test_dir, 'cats'))\n",
        "\n",
        "copy_files(dogs_train, os.path.join(train_dir, 'dogs'))\n",
        "copy_files(dogs_val, os.path.join(val_dir, 'dogs'))\n",
        "copy_files(dogs_test, os.path.join(test_dir, 'dogs'))\n",
        "\n",
        "print(\"Data successfully split and copied!\")\n"
      ]
    },
    {
      "cell_type": "code",
      "execution_count": null,
      "metadata": {
        "id": "7flh80eF9hC7"
      },
      "outputs": [],
      "source": [
        "import torch\n",
        "import torch.nn as nn\n",
        "import torch.optim as optim\n",
        "from torchvision import transforms, models\n",
        "from torch.utils.data import DataLoader\n",
        "from torchvision.datasets import ImageFolder\n",
        "from sklearn.metrics import accuracy_score\n",
        "import matplotlib.pyplot as plt\n",
        "import numpy as np\n",
        "from tqdm import tqdm"
      ]
    },
    {
      "cell_type": "code",
      "execution_count": null,
      "metadata": {
        "id": "dHdWTY4y9hC8"
      },
      "outputs": [],
      "source": [
        "# Dataset paths\n",
        "train_dir = 'C:/Users/louay/Desktop/Cats_and_Dogs/train'\n",
        "val_dir = 'C:/Users/louay/Desktop/Cats_and_Dogs/val'\n",
        "test_dir = 'C:/Users/louay/Desktop/Cats_and_Dogs/test'\n",
        "\n",
        "# Parameters\n",
        "batch_size = 32\n",
        "num_epochs = 10\n",
        "learning_rate = 0.0001\n",
        "img_size = 224  # Vision Transformers typically expect 224x224 images\n",
        "device = torch.device(\"cuda\" if torch.cuda.is_available() else \"cpu\")\n",
        "\n",
        "# Data transformations with augmentation for training\n",
        "train_transform = transforms.Compose([\n",
        "    transforms.RandomResizedCrop(img_size),\n",
        "    transforms.RandomHorizontalFlip(),\n",
        "    transforms.RandomRotation(20),\n",
        "    transforms.ToTensor(),\n",
        "    transforms.Normalize(mean=[0.485, 0.456, 0.406], std=[0.229, 0.224, 0.225])\n",
        "])\n",
        "\n",
        "# Validation and Test transformations\n",
        "val_test_transform = transforms.Compose([\n",
        "    transforms.Resize((img_size, img_size)),\n",
        "    transforms.ToTensor(),\n",
        "    transforms.Normalize(mean=[0.485, 0.456, 0.406], std=[0.229, 0.224, 0.225])\n",
        "])\n",
        "\n",
        "# Datasets\n",
        "train_dataset = ImageFolder(train_dir, transform=train_transform)\n",
        "val_dataset = ImageFolder(val_dir, transform=val_test_transform)\n",
        "test_dataset = ImageFolder(test_dir, transform=val_test_transform)\n",
        "\n",
        "# Data loaders\n",
        "train_loader = DataLoader(train_dataset, batch_size=batch_size, shuffle=True)\n",
        "val_loader = DataLoader(val_dataset, batch_size=batch_size, shuffle=False)\n",
        "test_loader = DataLoader(test_dataset, batch_size=batch_size, shuffle=False)"
      ]
    },
    {
      "cell_type": "code",
      "execution_count": null,
      "metadata": {
        "id": "BkmaAheK9hC8"
      },
      "outputs": [],
      "source": [
        "# Load the pre-trained Vision Transformer model\n",
        "model = models.vit_b_16(pretrained=True)\n",
        "\n",
        "# Freeze the weights of the pre-trained model\n",
        "for param in model.parameters():\n",
        "    param.requires_grad = False\n",
        "\n",
        "# Modify the model to add new dense layers\n",
        "num_features = model.heads.head.in_features\n",
        "model.heads.head = nn.Sequential(\n",
        "    nn.Linear(num_features, 256),\n",
        "    nn.ReLU(),\n",
        "    nn.Dropout(0.5),\n",
        "    nn.Linear(256, 1)  # Binary classification\n",
        ")\n",
        "\n",
        "# Move the model to the GPU if available\n",
        "model = model.to(device)\n",
        "\n",
        "# Define the loss function and optimizer\n",
        "criterion = nn.BCEWithLogitsLoss()\n",
        "optimizer = torch.optim.Adam(model.heads.head.parameters(), lr=learning_rate)"
      ]
    },
    {
      "cell_type": "code",
      "execution_count": null,
      "metadata": {
        "id": "Rzttd4e79hC9"
      },
      "outputs": [],
      "source": [
        "# Function to evaluate the model\n",
        "def evaluate_model(model, data_loader, criterion):\n",
        "    model.eval()\n",
        "    val_loss = 0.0\n",
        "    val_preds, val_labels = [], []\n",
        "\n",
        "    with torch.no_grad():\n",
        "        for inputs, labels in data_loader:\n",
        "            inputs, labels = inputs.to(device), labels.to(device).float().unsqueeze(1)\n",
        "            outputs = model(inputs)\n",
        "\n",
        "            loss = criterion(outputs, labels)\n",
        "            val_loss += loss.item()\n",
        "\n",
        "            val_preds.extend(torch.sigmoid(outputs).cpu().numpy())\n",
        "            val_labels.extend(labels.cpu().numpy())\n",
        "\n",
        "    val_acc = accuracy_score((np.array(val_preds) > 0.5).astype(int), val_labels)\n",
        "    return val_loss / len(data_loader), val_acc\n",
        "\n",
        "# Function to train the model\n",
        "def train_model(model, train_loader, val_loader, criterion, optimizer, num_epochs):\n",
        "    history = {\"train_loss\": [], \"val_loss\": [], \"train_acc\": [], \"val_acc\": []}\n",
        "\n",
        "    for epoch in range(num_epochs):\n",
        "        model.train()\n",
        "        train_loss = 0.0\n",
        "        train_preds, train_labels = [], []\n",
        "\n",
        "        for inputs, labels in tqdm(train_loader, desc=f\"Epoch {epoch+1}/{num_epochs}\"):\n",
        "            inputs, labels = inputs.to(device), labels.to(device).float().unsqueeze(1)\n",
        "\n",
        "            optimizer.zero_grad()\n",
        "            outputs = model(inputs)\n",
        "            loss = criterion(outputs, labels)\n",
        "            loss.backward()\n",
        "            optimizer.step()\n",
        "\n",
        "            train_loss += loss.item()\n",
        "            train_preds.extend(torch.sigmoid(outputs).cpu().detach().numpy())\n",
        "            train_labels.extend(labels.cpu().numpy())\n",
        "\n",
        "        train_acc = accuracy_score((np.array(train_preds) > 0.5).astype(int), train_labels)\n",
        "        val_loss, val_acc = evaluate_model(model, val_loader, criterion)\n",
        "\n",
        "        history[\"train_loss\"].append(train_loss / len(train_loader))\n",
        "        history[\"val_loss\"].append(val_loss)\n",
        "        history[\"train_acc\"].append(train_acc)\n",
        "        history[\"val_acc\"].append(val_acc)\n",
        "\n",
        "        print(f\"Epoch {epoch+1}/{num_epochs}, \"\n",
        "              f\"Train Loss: {train_loss / len(train_loader):.4f}, Train Acc: {train_acc:.4f}, \"\n",
        "              f\"Val Loss: {val_loss:.4f}, Val Acc: {val_acc:.4f}\")\n",
        "\n",
        "    return history\n",
        "\n"
      ]
    },
    {
      "cell_type": "code",
      "execution_count": null,
      "metadata": {
        "id": "_9fTfv0B9hC-",
        "outputId": "c4435503-7cab-45fb-d098-d839734dad0c"
      },
      "outputs": [
        {
          "name": "stderr",
          "output_type": "stream",
          "text": [
            "c:\\Users\\louay\\AppData\\Local\\Programs\\Python\\Python311\\Lib\\site-packages\\torchvision\\models\\_utils.py:208: UserWarning: The parameter 'pretrained' is deprecated since 0.13 and may be removed in the future, please use 'weights' instead.\n",
            "  warnings.warn(\n",
            "c:\\Users\\louay\\AppData\\Local\\Programs\\Python\\Python311\\Lib\\site-packages\\torchvision\\models\\_utils.py:223: UserWarning: Arguments other than a weight enum or `None` for 'weights' are deprecated since 0.13 and may be removed in the future. The current behavior is equivalent to passing `weights=ViT_B_16_Weights.IMAGENET1K_V1`. You can also use `weights=ViT_B_16_Weights.DEFAULT` to get the most up-to-date weights.\n",
            "  warnings.warn(msg)\n",
            "Epoch 1/10: 100%|██████████| 500/500 [10:35<00:00,  1.27s/it]\n"
          ]
        },
        {
          "name": "stdout",
          "output_type": "stream",
          "text": [
            "Epoch 1/10, Train Loss: 0.1334, Train Acc: 0.9684, Val Loss: 0.0364, Val Acc: 0.9934\n"
          ]
        },
        {
          "name": "stderr",
          "output_type": "stream",
          "text": [
            "Epoch 2/10: 100%|██████████| 500/500 [09:17<00:00,  1.12s/it]\n"
          ]
        },
        {
          "name": "stdout",
          "output_type": "stream",
          "text": [
            "Epoch 2/10, Train Loss: 0.0579, Train Acc: 0.9799, Val Loss: 0.0284, Val Acc: 0.9940\n"
          ]
        },
        {
          "name": "stderr",
          "output_type": "stream",
          "text": [
            "Epoch 3/10: 100%|██████████| 500/500 [09:10<00:00,  1.10s/it]\n"
          ]
        },
        {
          "name": "stdout",
          "output_type": "stream",
          "text": [
            "Epoch 3/10, Train Loss: 0.0549, Train Acc: 0.9800, Val Loss: 0.0249, Val Acc: 0.9940\n"
          ]
        },
        {
          "name": "stderr",
          "output_type": "stream",
          "text": [
            "Epoch 4/10: 100%|██████████| 500/500 [09:08<00:00,  1.10s/it]\n"
          ]
        },
        {
          "name": "stdout",
          "output_type": "stream",
          "text": [
            "Epoch 4/10, Train Loss: 0.0563, Train Acc: 0.9793, Val Loss: 0.0236, Val Acc: 0.9942\n"
          ]
        },
        {
          "name": "stderr",
          "output_type": "stream",
          "text": [
            "Epoch 5/10: 100%|██████████| 500/500 [09:10<00:00,  1.10s/it]\n"
          ]
        },
        {
          "name": "stdout",
          "output_type": "stream",
          "text": [
            "Epoch 5/10, Train Loss: 0.0524, Train Acc: 0.9803, Val Loss: 0.0226, Val Acc: 0.9943\n"
          ]
        },
        {
          "name": "stderr",
          "output_type": "stream",
          "text": [
            "Epoch 6/10: 100%|██████████| 500/500 [09:21<00:00,  1.12s/it]\n"
          ]
        },
        {
          "name": "stdout",
          "output_type": "stream",
          "text": [
            "Epoch 6/10, Train Loss: 0.0494, Train Acc: 0.9817, Val Loss: 0.0221, Val Acc: 0.9942\n"
          ]
        },
        {
          "name": "stderr",
          "output_type": "stream",
          "text": [
            "Epoch 7/10: 100%|██████████| 500/500 [09:11<00:00,  1.10s/it]\n"
          ]
        },
        {
          "name": "stdout",
          "output_type": "stream",
          "text": [
            "Epoch 7/10, Train Loss: 0.0469, Train Acc: 0.9822, Val Loss: 0.0210, Val Acc: 0.9946\n"
          ]
        },
        {
          "name": "stderr",
          "output_type": "stream",
          "text": [
            "Epoch 8/10: 100%|██████████| 500/500 [09:09<00:00,  1.10s/it]\n"
          ]
        },
        {
          "name": "stdout",
          "output_type": "stream",
          "text": [
            "Epoch 8/10, Train Loss: 0.0498, Train Acc: 0.9798, Val Loss: 0.0209, Val Acc: 0.9943\n"
          ]
        },
        {
          "name": "stderr",
          "output_type": "stream",
          "text": [
            "Epoch 9/10: 100%|██████████| 500/500 [09:10<00:00,  1.10s/it]\n"
          ]
        },
        {
          "name": "stdout",
          "output_type": "stream",
          "text": [
            "Epoch 9/10, Train Loss: 0.0498, Train Acc: 0.9812, Val Loss: 0.0202, Val Acc: 0.9945\n"
          ]
        },
        {
          "name": "stderr",
          "output_type": "stream",
          "text": [
            "Epoch 10/10: 100%|██████████| 500/500 [09:08<00:00,  1.10s/it]\n"
          ]
        },
        {
          "name": "stdout",
          "output_type": "stream",
          "text": [
            "Epoch 10/10, Train Loss: 0.0471, Train Acc: 0.9810, Val Loss: 0.0196, Val Acc: 0.9946\n"
          ]
        },
        {
          "data": {
            "image/png": "[encoded data removed]",
            "text/plain": [
              "<Figure size 1200x400 with 2 Axes>"
            ]
          },
          "metadata": {},
          "output_type": "display_data"
        },
        {
          "name": "stdout",
          "output_type": "stream",
          "text": [
            "Test Loss: 0.0145, Test Accuracy: 0.9964\n"
          ]
        }
      ],
      "source": [
        "# Train the model with the new dense layers\n",
        "history = train_model(model, train_loader, val_loader, criterion, optimizer, num_epochs)\n",
        "\n",
        "# Plot training history\n",
        "plt.figure(figsize=(12, 4))\n",
        "plt.subplot(1, 2, 1)\n",
        "plt.plot(history[\"train_loss\"], label=\"Train Loss\")\n",
        "plt.plot(history[\"val_loss\"], label=\"Validation Loss\")\n",
        "plt.xlabel(\"Epochs\")\n",
        "plt.ylabel(\"Loss\")\n",
        "plt.title(\"Loss Over Epochs\")\n",
        "plt.legend()\n",
        "\n",
        "plt.subplot(1, 2, 2)\n",
        "plt.plot(history[\"train_acc\"], label=\"Train Accuracy\")\n",
        "plt.plot(history[\"val_acc\"], label=\"Validation Accuracy\")\n",
        "plt.xlabel(\"Epochs\")\n",
        "plt.ylabel(\"Accuracy\")\n",
        "plt.title(\"Accuracy Over Epochs\")\n",
        "plt.legend()\n",
        "\n",
        "plt.show()\n",
        "\n",
        "# Test the model\n",
        "test_loss, test_acc = evaluate_model(model, test_loader, criterion)\n",
        "print(f\"Test Loss: {test_loss:.4f}, Test Accuracy: {test_acc:.4f}\")\n"
      ]
    }
  ],
  "metadata": {
    "kernelspec": {
      "display_name": "Python 3",
      "language": "python",
      "name": "python3"
    },
    "language_info": {
      "codemirror_mode": {
        "name": "ipython",
        "version": 3
      },
      "file_extension": ".py",
      "mimetype": "text/x-python",
      "name": "python",
      "nbconvert_exporter": "python",
      "pygments_lexer": "ipython3",
      "version": "3.11.5"
    },
    "colab": {
      "provenance": []
    }
  },
  "nbformat": 4,
  "nbformat_minor": 0
}